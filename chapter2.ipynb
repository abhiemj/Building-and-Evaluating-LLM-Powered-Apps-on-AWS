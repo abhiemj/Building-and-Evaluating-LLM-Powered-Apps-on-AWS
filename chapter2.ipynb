{
 "cells": [
  {
   "cell_type": "code",
   "execution_count": 7,
   "id": "4abbef53",
   "metadata": {},
   "outputs": [],
   "source": [
    "import os\n",
    "from dotenv import load_dotenv\n",
    "\n",
    "load_dotenv()\n",
    "\n",
    "agentId = os.getenv('BEDROCK_AGENT_ID')\n",
    "agentAliasId = os.getenv('BEDROCK_AGENT_ALIAS_ID')\n",
    "region_name = 'us-east-1'\n",
    "lambda_function_arn = os.getenv('LAMBDA_FUNCTION_ARN')"
   ]
  },
  {
   "cell_type": "code",
   "execution_count": 2,
   "id": "fc9b378b",
   "metadata": {},
   "outputs": [],
   "source": [
    "import boto3\n",
    "import uuid\n",
    "from helper import *"
   ]
  },
  {
   "cell_type": "code",
   "execution_count": 3,
   "id": "6153511d",
   "metadata": {},
   "outputs": [],
   "source": [
    "sessionId = str(uuid.uuid4())\n",
    "message = \"My name is Abhishek, the iphone i recieved is defective and I want a refund.\""
   ]
  },
  {
   "cell_type": "code",
   "execution_count": null,
   "id": "488d81e2",
   "metadata": {},
   "outputs": [],
   "source": [
    "invoke_agent_and_print(\n",
    "    agentId=agentId, \n",
    "    agentAliasId=agentAliasId, \n",
    "    inputText=message, \n",
    "    sessionId=sessionId\n",
    ")"
   ]
  },
  {
   "cell_type": "code",
   "execution_count": 5,
   "id": "0014c12c",
   "metadata": {},
   "outputs": [],
   "source": [
    "bedrock_agent= boto3.client(service_name = 'bedrock-agent', region_name = region_name)"
   ]
  },
  {
   "cell_type": "code",
   "execution_count": 8,
   "id": "80025e10",
   "metadata": {},
   "outputs": [],
   "source": [
    "create_agent_action_group_response = bedrock_agent.create_agent_action_group(\n",
    "    actionGroupName=\"customer-support-for-e-commerce-platform\",\n",
    "    agentId=agentId,\n",
    "    actionGroupExecutor = {\n",
    "        \"lambda\": lambda_function_arn\n",
    "    },\n",
    "    functionSchema={\n",
    "        \"functions\":[\n",
    "            {\n",
    "                \"name\":\"resolveCustomerId\",\n",
    "                \"description\": \"Retrieve the customer ID based on available information.Private data is not to be shown to user.\",\n",
    "                \"parameters\":{\n",
    "                    \"email\":{\n",
    "                        \"description\": \"email address of the customer\",\n",
    "                        \"required\": False,\n",
    "                        \"type\":\"string\"\n",
    "                    },\n",
    "                    'name': {\n",
    "                        'description': 'Customer name',\n",
    "                        'required': False,\n",
    "                        'type': 'string'\n",
    "                    },\n",
    "                    'phone': {\n",
    "                        'description': 'Phone number',\n",
    "                        'required': False,\n",
    "                        'type': 'string'\n",
    "                    },\n",
    "                }\n",
    "            },            \n",
    "            {\n",
    "                'name': 'escalateToSupport',\n",
    "                'description': 'Send a message to the support team, used for service escalation. ',\n",
    "                'parameters': {\n",
    "                    'custId': {\n",
    "                        'description': 'customer ID',\n",
    "                        'required': True,\n",
    "                        'type': 'string'\n",
    "                    },\n",
    "                    'supportSummary': {\n",
    "                        'description': 'Summary of the support request',\n",
    "                        'required': True,\n",
    "                        'type': 'string'\n",
    "                    }\n",
    "                }\n",
    "            },\n",
    "            {\n",
    "                'name': 'getTicketStatus',\n",
    "                'description': 'Check the status of an existing support ticket.',\n",
    "                'parameters': {\n",
    "                    'ticketId': {\n",
    "                        'description': 'Ticket ID to check',\n",
    "                        'required': True,\n",
    "                        'type': 'string'\n",
    "                    }\n",
    "                }\n",
    "            },\n",
    "{\n",
    "    'name': 'getOrderStatus',\n",
    "    'description': 'Retrieve the status of a customer order using order ID.',\n",
    "    'parameters': {\n",
    "        'orderId': {\n",
    "            'description': 'Unique order identifier',\n",
    "            'required': True,\n",
    "            'type': 'string'\n",
    "        }\n",
    "    }\n",
    "},\n",
    "{\n",
    "    'name': 'cancelSubscription',\n",
    "    'description': 'Cancel a customer subscription. Use only upon verified request.',\n",
    "    'parameters': {\n",
    "        'custId': {\n",
    "            'description': 'Customer ID of the account',\n",
    "            'required': True,\n",
    "            'type': 'string'\n",
    "        },\n",
    "        'reason': {\n",
    "            'description': 'Reason for cancellation',\n",
    "            'required': False,\n",
    "            'type': 'string'\n",
    "        }\n",
    "    }\n",
    "}\n",
    "\n",
    "        ]\n",
    "    },\n",
    "    agentVersion='DRAFT',\n",
    ")\n",
    "                "
   ]
  },
  {
   "cell_type": "code",
   "execution_count": 9,
   "id": "b6d7a097",
   "metadata": {},
   "outputs": [
    {
     "data": {
      "text/plain": [
       "{'ResponseMetadata': {'RequestId': 'cd3462da-c481-4e70-be47-29c0fc2069dd',\n",
       "  'HTTPStatusCode': 200,\n",
       "  'HTTPHeaders': {'date': 'Mon, 04 Aug 2025 08:58:43 GMT',\n",
       "   'content-type': 'application/json',\n",
       "   'content-length': '1937',\n",
       "   'connection': 'keep-alive',\n",
       "   'x-amzn-requestid': 'cd3462da-c481-4e70-be47-29c0fc2069dd',\n",
       "   'x-amz-apigw-id': 'OxdqjH-kIAMEm7w=',\n",
       "   'x-amzn-trace-id': 'Root=1-68907643-687aa9b6600891d6734e1c34'},\n",
       "  'RetryAttempts': 0},\n",
       " 'agentActionGroup': {'actionGroupExecutor': {'lambda': 'arn:aws:lambda:us-east-1:038145523842:function:lambdaformyagent'},\n",
       "  'actionGroupId': 'GLB9M3V4SX',\n",
       "  'actionGroupName': 'customer-support-for-e-commerce-platform',\n",
       "  'actionGroupState': 'ENABLED',\n",
       "  'agentId': 'NNCSQ7FM3I',\n",
       "  'agentVersion': 'DRAFT',\n",
       "  'createdAt': datetime.datetime(2025, 8, 4, 8, 58, 43, 227996, tzinfo=tzutc()),\n",
       "  'functionSchema': {'functions': [{'description': 'Retrieve the customer ID based on available information.Private data is not to be shown to user.',\n",
       "     'name': 'resolveCustomerId',\n",
       "     'parameters': {'phone': {'description': 'Phone number',\n",
       "       'required': False,\n",
       "       'type': 'string'},\n",
       "      'name': {'description': 'Customer name',\n",
       "       'required': False,\n",
       "       'type': 'string'},\n",
       "      'email': {'description': 'email address of the customer',\n",
       "       'required': False,\n",
       "       'type': 'string'}},\n",
       "     'requireConfirmation': 'DISABLED'},\n",
       "    {'description': 'Send a message to the support team, used for service escalation. ',\n",
       "     'name': 'escalateToSupport',\n",
       "     'parameters': {'supportSummary': {'description': 'Summary of the support request',\n",
       "       'required': True,\n",
       "       'type': 'string'},\n",
       "      'custId': {'description': 'customer ID',\n",
       "       'required': True,\n",
       "       'type': 'string'}},\n",
       "     'requireConfirmation': 'DISABLED'},\n",
       "    {'description': 'Check the status of an existing support ticket.',\n",
       "     'name': 'getTicketStatus',\n",
       "     'parameters': {'ticketId': {'description': 'Ticket ID to check',\n",
       "       'required': True,\n",
       "       'type': 'string'}},\n",
       "     'requireConfirmation': 'DISABLED'},\n",
       "    {'description': 'Retrieve the status of a customer order using order ID.',\n",
       "     'name': 'getOrderStatus',\n",
       "     'parameters': {'orderId': {'description': 'Unique order identifier',\n",
       "       'required': True,\n",
       "       'type': 'string'}},\n",
       "     'requireConfirmation': 'DISABLED'},\n",
       "    {'description': 'Cancel a customer subscription. Use only upon verified request.',\n",
       "     'name': 'cancelSubscription',\n",
       "     'parameters': {'reason': {'description': 'Reason for cancellation',\n",
       "       'required': False,\n",
       "       'type': 'string'},\n",
       "      'custId': {'description': 'Customer ID of the account',\n",
       "       'required': True,\n",
       "       'type': 'string'}},\n",
       "     'requireConfirmation': 'DISABLED'}]},\n",
       "  'updatedAt': datetime.datetime(2025, 8, 4, 8, 58, 43, 227996, tzinfo=tzutc())}}"
      ]
     },
     "execution_count": 9,
     "metadata": {},
     "output_type": "execute_result"
    }
   ],
   "source": [
    "create_agent_action_group_response"
   ]
  },
  {
   "cell_type": "code",
   "execution_count": 10,
   "id": "b3de02e0",
   "metadata": {},
   "outputs": [],
   "source": [
    "actionGroupId = create_agent_action_group_response['agentActionGroup']['actionGroupId']\n"
   ]
  },
  {
   "cell_type": "code",
   "execution_count": 11,
   "id": "bf8ef4e0",
   "metadata": {},
   "outputs": [
    {
     "name": "stdout",
     "output_type": "stream",
     "text": [
      "Action Group status: ENABLED\n"
     ]
    },
    {
     "data": {
      "text/plain": [
       "'ENABLED'"
      ]
     },
     "execution_count": 11,
     "metadata": {},
     "output_type": "execute_result"
    }
   ],
   "source": [
    "wait_for_action_group_status(\n",
    "    agentId=agentId,\n",
    "    actionGroupId=actionGroupId,\n",
    "    targetStatus=\"ENABLED\"\n",
    ")"
   ]
  },
  {
   "cell_type": "code",
   "execution_count": 12,
   "id": "5adbbf3b",
   "metadata": {},
   "outputs": [
    {
     "name": "stdout",
     "output_type": "stream",
     "text": [
      "Waiting for agent status of 'PREPARED'...\n",
      "Agent status: PREPARED\n",
      "Agent reached 'PREPARED' status.\n"
     ]
    }
   ],
   "source": [
    "bedrock_agent.prepare_agent(\n",
    "    agentId=agentId\n",
    ")\n",
    "\n",
    "wait_for_agent_status(\n",
    "    agentId=agentId,\n",
    "    targetStatus='PREPARED'\n",
    ")"
   ]
  },
  {
   "cell_type": "code",
   "execution_count": 13,
   "id": "b6da8165",
   "metadata": {},
   "outputs": [
    {
     "name": "stdout",
     "output_type": "stream",
     "text": [
      "Waiting for agent alias status of 'PREPARED'...\n",
      "Agent alias status: UPDATING\n",
      "Agent alias status: PREPARED\n",
      "Agent alias reached status 'PREPARED'\n"
     ]
    }
   ],
   "source": [
    "bedrock_agent.update_agent_alias(\n",
    "    agentId=agentId,\n",
    "    agentAliasId=agentAliasId,\n",
    "    agentAliasName='Aliasformyagent',\n",
    ")\n",
    "\n",
    "wait_for_agent_alias_status(\n",
    "    agentId=agentId,\n",
    "    agentAliasId=agentAliasId,\n",
    "    targetStatus='PREPARED'\n",
    ")"
   ]
  },
  {
   "cell_type": "code",
   "execution_count": 14,
   "id": "b4381355",
   "metadata": {},
   "outputs": [],
   "source": [
    "sessionId = str(uuid.uuid4())\n",
    "message = \"hey my name is x with email of  x@x.xom, my iphone was broken\""
   ]
  },
  {
   "cell_type": "code",
   "execution_count": 16,
   "id": "6ef6e3cd",
   "metadata": {},
   "outputs": [
    {
     "name": "stdout",
     "output_type": "stream",
     "text": [
      "User: hey my name is x with email of  x@x.xom, my iphone was broken\n",
      "\n",
      "Agent: I have escalated your support request for your broken iPhone to our\n",
      "       support team. They have assigned a support ticket with ID 3613\n",
      "       to address your issue. You can check the status of this ticket\n",
      "       by using the '<REDACTED>' function and providing the ticket ID.\n",
      "       Please let me know if you have any other questions!\n",
      "\n",
      "Session ID: 6aad4322-90e5-4330-bb7f-6d1728ff257e\n"
     ]
    }
   ],
   "source": [
    "invoke_agent_and_print(\n",
    "    agentId=agentId,\n",
    "    agentAliasId=agentAliasId,\n",
    "    inputText=message,\n",
    "    sessionId=sessionId,\n",
    "    enableTrace=False\n",
    ")"
   ]
  },
  {
   "cell_type": "code",
   "execution_count": 17,
   "id": "ec6ef7f8",
   "metadata": {},
   "outputs": [
    {
     "name": "stdout",
     "output_type": "stream",
     "text": [
      "User: hey my name is x with email of  x@x.xom, my iphone was broken\n",
      "\n",
      "Agent: \n",
      "Agent's thought process:\n",
      "  It looks like you are reporting the same issue with your broken\n",
      "  iPhone again. Let me try to assist you further.\n",
      "\n",
      "Invocation Input:\n",
      "  Type: ACTION_GROUP\n",
      "  Action Group: customer-support-for-e-commerce-platform\n",
      "  Function: resolveCustomerId\n",
      "  Parameters: [{'name': 'name', 'type': 'string', 'value': 'x'}, {'name': 'email', 'type': 'string', 'value': 'x@x.xom'}]\n",
      "\n",
      "Observation:\n",
      "  Type: ACTION_GROUP\n",
      "  Action Group Output: {'id':8935}\n",
      "\n",
      "Agent's thought process:\n",
      "  Okay, I was able to retrieve your customer ID as 8935 based on the\n",
      "  name and email address you provided. Let me go ahead and escalate\n",
      "  your support request for the broken iPhone again.\n",
      "\n",
      "Invocation Input:\n",
      "  Type: ACTION_GROUP\n",
      "  Action Group: customer-support-for-e-commerce-platform\n",
      "  Function: escalateToSupport\n",
      "  Parameters: [{'name': 'supportSummary', 'type': 'string', 'value': \"Customer's iPhone is broken\"}, {'name': 'custId', 'type': 'string', 'value': '8935'}]\n",
      "\n",
      "Observation:\n",
      "  Type: ACTION_GROUP\n",
      "  Action Group Output: {'supportId':5930}\n",
      "\n",
      "Agent's thought process:\n",
      "  Great, I have escalated your support request for the broken iPhone\n",
      "  to our support team. They have assigned a new support ticket with ID\n",
      "  5930 to address your issue. Please let me know if you have any other\n",
      "  questions!\n",
      "\n",
      "Observation:\n",
      "  Type: FINISH\n",
      "\n",
      "Final response:\n",
      "  I have escalated your support request for your broken iPhone to our\n",
      "  support team. They have assigned a new support ticket with ID 5930\n",
      "  to address your issue. You can check the status of this ticket by\n",
      "  using the 'getTicketStatus' function and providing the ticket ID.\n",
      "  Please let me know if you have any other questions!\n",
      "\n",
      "\n",
      "Session ID: 6aad4322-90e5-4330-bb7f-6d1728ff257e\n"
     ]
    }
   ],
   "source": [
    "invoke_agent_and_print(\n",
    "    agentId=agentId,\n",
    "    agentAliasId=agentAliasId,\n",
    "    inputText=message,\n",
    "    sessionId=sessionId,\n",
    "    enableTrace=True\n",
    ")"
   ]
  },
  {
   "cell_type": "code",
   "execution_count": 19,
   "id": "b7b82a9a",
   "metadata": {},
   "outputs": [
    {
     "name": "stdout",
     "output_type": "stream",
     "text": [
      "User: i dont like the service , i want to cancel my paid subscription\n",
      "\n",
      "Agent: \n",
      "Agent's thought process:\n",
      "  Okay, let me see how I can assist you with cancelling your paid\n",
      "  subscription. I will first need to retrieve your customer ID to\n",
      "  process the cancellation request.\n",
      "\n",
      "Invocation Input:\n",
      "  Type: ACTION_GROUP\n",
      "  Action Group: customer-support-for-e-commerce-platform\n",
      "  Function: resolveCustomerId\n",
      "  Parameters: [{'name': 'name', 'type': 'string', 'value': 'x'}, {'name': 'email', 'type': 'string', 'value': 'x@x.xom'}]\n",
      "\n",
      "Observation:\n",
      "  Type: ACTION_GROUP\n",
      "  Action Group Output: {'id':4152}\n",
      "\n",
      "Agent's thought process:\n",
      "  Great, I was able to retrieve your customer ID as 4152 based on the\n",
      "  information you provided. Now I can proceed with cancelling your\n",
      "  paid subscription.\n",
      "\n",
      "Invocation Input:\n",
      "  Type: ACTION_GROUP\n",
      "  Action Group: customer-support-for-e-commerce-platform\n",
      "  Function: cancelSubscription\n",
      "  Parameters: [{'name': 'reason', 'type': 'string', 'value': 'Customer is not satisfied with the service'}, {'name': 'custId', 'type': 'string', 'value': '4152'}]\n",
      "\n",
      "Observation:\n",
      "  Type: ACTION_GROUP\n",
      "  Action Group Output: {'cancelId': 44317, 'custId': '4152', 'status': 'Subscription cancelled', 'reason': 'Customer is not satisfied with the service'}\n",
      "\n",
      "Agent's thought process:\n",
      "  Okay, I have successfully cancelled your paid subscription. The\n",
      "  cancellation request has been processed with ID 44317. I'm sorry to\n",
      "  hear that you were not satisfied with our service. Please let me\n",
      "  know if there is anything else I can assist you with.\n",
      "\n",
      "Observation:\n",
      "  Type: FINISH\n",
      "\n",
      "Final response:\n",
      "  I have successfully cancelled your paid subscription as requested.\n",
      "  The cancellation request has been processed with ID 44317. I'm sorry\n",
      "  to hear that you were not satisfied with our service. Please let me\n",
      "  know if there is anything else I can assist you with.\n",
      "\n",
      "\n",
      "Session ID: 6aad4322-90e5-4330-bb7f-6d1728ff257e\n"
     ]
    }
   ],
   "source": [
    "message = \"i dont like the service , i want to cancel my paid subscription\"\n",
    "\n",
    "invoke_agent_and_print(\n",
    "    agentId=agentId,\n",
    "    agentAliasId=agentAliasId,\n",
    "    inputText=message,\n",
    "    sessionId=sessionId,\n",
    "    enableTrace=True\n",
    ")"
   ]
  },
  {
   "cell_type": "code",
   "execution_count": 20,
   "id": "ac3181c1",
   "metadata": {},
   "outputs": [
    {
     "name": "stdout",
     "output_type": "stream",
     "text": [
      "User: ihey what s the status of my order number 5678\n",
      "\n",
      "Agent: \n",
      "Agent's thought process:\n",
      "  To check the status of the customer's order, I will need to invoke\n",
      "  the 'getOrderStatus' function and provide the order ID.\n",
      "\n",
      "Invocation Input:\n",
      "  Type: ACTION_GROUP\n",
      "  Action Group: customer-support-for-e-commerce-platform\n",
      "  Function: getOrderStatus\n",
      "  Parameters: [{'name': 'orderId', 'type': 'string', 'value': '5678'}]\n",
      "\n",
      "Observation:\n",
      "  Type: ACTION_GROUP\n",
      "  Action Group Output: {'orderId': '5678', 'status': 'Shipped'}\n",
      "\n",
      "Observation:\n",
      "  Type: FINISH\n",
      "\n",
      "Final response:\n",
      "  According to the order status, your order number 5678 has been\n",
      "  Shipped.\n",
      "\n",
      "\n",
      "Session ID: a0f26a01-bf1f-4f0d-83f6-87c8d977009b\n"
     ]
    }
   ],
   "source": [
    "sessionId = str(uuid.uuid4())\n",
    "message = \"ihey what s the status of my order number 5678\"\n",
    "\n",
    "invoke_agent_and_print(\n",
    "    agentId=agentId,\n",
    "    agentAliasId=agentAliasId,\n",
    "    inputText=message,\n",
    "    sessionId=sessionId,\n",
    "    enableTrace=True\n",
    ")"
   ]
  },
  {
   "cell_type": "code",
   "execution_count": null,
   "id": "9842dae7",
   "metadata": {},
   "outputs": [],
   "source": []
  }
 ],
 "metadata": {
  "kernelspec": {
   "display_name": ".venv",
   "language": "python",
   "name": "python3"
  },
  "language_info": {
   "codemirror_mode": {
    "name": "ipython",
    "version": 3
   },
   "file_extension": ".py",
   "mimetype": "text/x-python",
   "name": "python",
   "nbconvert_exporter": "python",
   "pygments_lexer": "ipython3",
   "version": "3.13.5"
  }
 },
 "nbformat": 4,
 "nbformat_minor": 5
}
